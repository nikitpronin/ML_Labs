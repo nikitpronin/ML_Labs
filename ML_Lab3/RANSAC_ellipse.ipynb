{
 "cells": [
  {
   "cell_type": "markdown",
   "metadata": {},
   "source": [
    "# Генерируем данные"
   ]
  },
  {
   "cell_type": "markdown",
   "metadata": {},
   "source": [
    "Создаем точки, которые примерно соответствуют эллипсу:"
   ]
  },
  {
   "cell_type": "code",
   "execution_count": 1,
   "metadata": {},
   "outputs": [],
   "source": [
    "import numpy as np\n",
    "t = np.linspace(0, 2 * np.pi, 50)\n",
    "a = 10\n",
    "b = 5\n",
    "xc = 20\n",
    "yc = 30\n",
    "theta = np.pi/6\n",
    "x = xc + a*np.cos(theta)*np.cos(t) - b*np.sin(theta)*np.sin(t)\n",
    "y = yc + a*np.sin(theta)*np.cos(t) + b*np.cos(theta)*np.sin(t)\n",
    "data = np.column_stack([x, y])\n",
    "# воспроизводим результаты:\n",
    "np.random.seed(seed=1234)\n",
    "data += np.random.normal(size=data.shape)"
   ]
  },
  {
   "cell_type": "markdown",
   "metadata": {},
   "source": [
    "Добавляем некорректные данные"
   ]
  },
  {
   "cell_type": "code",
   "execution_count": 2,
   "metadata": {},
   "outputs": [
    {
     "data": {
      "image/png": "[encoded data removed]",
      "text/plain": [
       "<Figure size 432x288 with 1 Axes>"
      ]
     },
     "metadata": {
      "needs_background": "light"
     },
     "output_type": "display_data"
    }
   ],
   "source": [
    "data[0] = (100, 100)\n",
    "data[1] = (110, 120)\n",
    "data[2] = (120, 130)\n",
    "data[3] = (140, 130)\n",
    "\n",
    "%matplotlib inline\n",
    "import matplotlib.pyplot as plt\n",
    "plt.plot(data[:,0],data[:,1],'r.')\n",
    "plt.show()"
   ]
  },
  {
   "cell_type": "markdown",
   "metadata": {},
   "source": [
    "# Оценка методом наименьших квадратов"
   ]
  },
  {
   "cell_type": "code",
   "execution_count": 7,
   "metadata": {},
   "outputs": [
    {
     "data": {
      "text/plain": [
       "[73.53514375539402,\n",
       " 78.26758206994066,\n",
       " 9.294963688441136,\n",
       " 80.77273222305244,\n",
       " 2.303948938231313]"
      ]
     },
     "execution_count": 7,
     "metadata": {},
     "output_type": "execute_result"
    }
   ],
   "source": [
    "import skimage.measure as sm\n",
    "model = sm.EllipseModel()\n",
    "model.estimate(data)\n",
    "\n",
    "#параметры эллипса модели\n",
    "# xc, yc, a, b, theta\n",
    "\n",
    "np.set_printoptions(suppress=True)\n",
    "model.params\n",
    "#получаем плохие параметры"
   ]
  },
  {
   "cell_type": "markdown",
   "metadata": {},
   "source": [
    "# Делаем оценку с помощью процедуры RANSAC"
   ]
  },
  {
   "cell_type": "code",
   "execution_count": 11,
   "metadata": {},
   "outputs": [
    {
     "name": "stdout",
     "output_type": "stream",
     "text": [
      "[19.852545172780793, 29.599391382202572, 9.419149174181227, 5.497673933574777, 0.5282891458540245]\n",
      "[ 0.14745483  0.40060862  0.58085083 -0.49767393 -0.00469037]\n"
     ]
    }
   ],
   "source": [
    "# Для подгонки эллипса требуется минимум 3 точки.\n",
    "n_min = 3\n",
    "\n",
    "# максимальное расстояние до точки совпадения\n",
    "t_max = 3.0\n",
    "\n",
    "ransac_model, inliers = sm.ransac(data, sm.EllipseModel, n_min, t_max, max_trials=50)\n",
    "print (ransac_model.params)\n",
    "\n",
    "original_params = np.array([xc,yc,a,b,theta])\n",
    "print (original_params - ransac_model.params)\n"
   ]
  },
  {
   "cell_type": "markdown",
   "metadata": {},
   "source": [
    "Найденные данные являются логически \"истинными\""
   ]
  },
  {
   "cell_type": "code",
   "execution_count": 12,
   "metadata": {},
   "outputs": [
    {
     "data": {
      "text/plain": [
       "array([False, False, False, False,  True, False, False, False, False,\n",
       "       False, False, False, False, False,  True,  True,  True,  True,\n",
       "        True,  True,  True,  True,  True,  True,  True,  True,  True,\n",
       "        True,  True,  True,  True,  True,  True,  True,  True,  True,\n",
       "        True,  True,  True,  True, False,  True,  True,  True,  True,\n",
       "        True,  True,  True,  True,  True])"
      ]
     },
     "execution_count": 12,
     "metadata": {},
     "output_type": "execute_result"
    }
   ],
   "source": [
    "inliers"
   ]
  },
  {
   "cell_type": "markdown",
   "metadata": {},
   "source": [
    "первые значения - это плохие вырезки."
   ]
  },
  {
   "cell_type": "markdown",
   "metadata": {},
   "source": [
    "# Рисуем эллипс"
   ]
  },
  {
   "cell_type": "code",
   "execution_count": 13,
   "metadata": {},
   "outputs": [
    {
     "data": {
      "image/png": "[encoded data removed]",
      "text/plain": [
       "<Figure size 432x288 with 1 Axes>"
      ]
     },
     "metadata": {
      "needs_background": "light"
     },
     "output_type": "display_data"
    }
   ],
   "source": [
    "t = np.linspace(0, 2 * np.pi, 100)\n",
    "p = ransac_model.params\n",
    "xe = p[0] + p[2]*np.cos(p[4])*np.cos(t) - p[3]*np.sin(p[4])*np.sin(t)\n",
    "ye = p[1] + p[2]*np.sin(p[4])*np.cos(t) + p[3]*np.cos(p[4])*np.sin(t)\n",
    "plt.clf()\n",
    "plt.plot(data[inliers,0],data[inliers,1],'r.')\n",
    "plt.plot(xe,ye,'b-')\n",
    "plt.plot(p[0],p[1],'bo')\n",
    "plt.axis('equal')\n",
    "plt.show()"
   ]
  },
  {
   "cell_type": "code",
   "execution_count": null,
   "metadata": {},
   "outputs": [],
   "source": []
  }
 ],
 "metadata": {
  "kernelspec": {
   "display_name": "Python 3",
   "language": "python",
   "name": "python3"
  },
  "language_info": {
   "codemirror_mode": {
    "name": "ipython",
    "version": 3
   },
   "file_extension": ".py",
   "mimetype": "text/x-python",
   "name": "python",
   "nbconvert_exporter": "python",
   "pygments_lexer": "ipython3",
   "version": "3.8.5"
  }
 },
 "nbformat": 4,
 "nbformat_minor": 4
}
